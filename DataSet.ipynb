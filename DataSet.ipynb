{
  "nbformat": 4,
  "nbformat_minor": 0,
  "metadata": {
    "colab": {
      "provenance": [],
      "authorship_tag": "ABX9TyMuDji5TiYWrvbwa0VJPHg+",
      "include_colab_link": true
    },
    "kernelspec": {
      "name": "python3",
      "display_name": "Python 3"
    },
    "language_info": {
      "name": "python"
    }
  },
  "cells": [
    {
      "cell_type": "markdown",
      "metadata": {
        "id": "view-in-github",
        "colab_type": "text"
      },
      "source": [
        "<a href=\"https://colab.research.google.com/github/Samuellps/Pandas/blob/main/DataSet.ipynb\" target=\"_parent\"><img src=\"https://colab.research.google.com/assets/colab-badge.svg\" alt=\"Open In Colab\"/></a>"
      ]
    },
    {
      "cell_type": "code",
      "source": [
        "!pip install Faker"
      ],
      "metadata": {
        "colab": {
          "base_uri": "https://localhost:8080/"
        },
        "id": "TicobpdVGx5f",
        "outputId": "e86d2bb1-c600-44d9-90c6-5d834e148b79"
      },
      "execution_count": null,
      "outputs": [
        {
          "output_type": "stream",
          "name": "stdout",
          "text": [
            "Collecting Faker\n",
            "  Downloading Faker-25.2.0-py3-none-any.whl (1.8 MB)\n",
            "\u001b[2K     \u001b[90m━━━━━━━━━━━━━━━━━━━━━━━━━━━━━━━━━━━━━━━━\u001b[0m \u001b[32m1.8/1.8 MB\u001b[0m \u001b[31m7.4 MB/s\u001b[0m eta \u001b[36m0:00:00\u001b[0m\n",
            "\u001b[?25hRequirement already satisfied: python-dateutil>=2.4 in /usr/local/lib/python3.10/dist-packages (from Faker) (2.8.2)\n",
            "Requirement already satisfied: six>=1.5 in /usr/local/lib/python3.10/dist-packages (from python-dateutil>=2.4->Faker) (1.16.0)\n",
            "Installing collected packages: Faker\n",
            "Successfully installed Faker-25.2.0\n"
          ]
        }
      ]
    },
    {
      "cell_type": "code",
      "execution_count": null,
      "metadata": {
        "id": "FGg7gspCGjbX"
      },
      "outputs": [],
      "source": [
        "from faker import Faker\n",
        "import pandas as pd\n",
        "from random import randint"
      ]
    },
    {
      "cell_type": "code",
      "source": [
        "fake_people = dict()\n",
        "name = list()\n",
        "age = list()\n",
        "cpf = list()\n",
        "city = list()\n",
        "job = list()\n",
        "\n",
        "fake = Faker('pt_BR')\n",
        "\n",
        "for x in range(1000):\n",
        "  name.append(fake.name())\n",
        "  age.append(randint(1,100))\n",
        "  cpf.append(fake.cpf())\n",
        "  city.append(fake.city())\n",
        "  if age[x] > 18:\n",
        "    job.append(fake.job())\n",
        "  else:\n",
        "    job.append('Estudante')\n",
        "\n",
        "fake_people['Name'] = name\n",
        "fake_people['Age'] = age\n",
        "fake_people['CPF'] = cpf\n",
        "fake_people['City'] = city\n",
        "fake_people['Job'] = job\n",
        "\n",
        "df = pd.DataFrame(fake_people)\n",
        "print(df)"
      ],
      "metadata": {
        "colab": {
          "base_uri": "https://localhost:8080/"
        },
        "id": "o2aLtYctGuDZ",
        "outputId": "fe924e5a-26c6-4350-8ceb-ffdf91ba2427"
      },
      "execution_count": null,
      "outputs": [
        {
          "output_type": "stream",
          "name": "stdout",
          "text": [
            "                      Name  Age             CPF                City  \\\n",
            "0         Pietra Gonçalves    1  307.189.625-59    Castro de Novais   \n",
            "1             Maitê Pastor   96  634.179.058-93           Fernandes   \n",
            "2        Rafaela Aparecida   94  930.724.156-25         Brito Verde   \n",
            "3           Maysa Caldeira   98  654.831.079-93             Pacheco   \n",
            "4           Emanuel Barros   54  267.041.983-69               Costa   \n",
            "..                     ...  ...             ...                 ...   \n",
            "995    Maria Julia da Cruz   56  360.154.798-84             Ribeiro   \n",
            "996      Sr. Diogo Pereira   83  753.298.160-68         Sá do Norte   \n",
            "997  Sr. Felipe Cavalcanti   58  698.073.215-30  Albuquerque Alegre   \n",
            "998         Joaquim Borges   90  429.156.308-60               Lopes   \n",
            "999          Maya Ferreira   99  824.517.936-19            da Rocha   \n",
            "\n",
            "                 Job  \n",
            "0          Estudante  \n",
            "1           Agrônomo  \n",
            "2           Podólogo  \n",
            "3     Papiloscopista  \n",
            "4    Piloto de avião  \n",
            "..               ...  \n",
            "995         Oculista  \n",
            "996       Naturólogo  \n",
            "997    Recepcionista  \n",
            "998        Recreador  \n",
            "999      Geradorista  \n",
            "\n",
            "[1000 rows x 5 columns]\n"
          ]
        }
      ]
    },
    {
      "cell_type": "code",
      "source": [
        "df.to_csv('Fake_People.csv')"
      ],
      "metadata": {
        "id": "vgNBZW7bHy3L"
      },
      "execution_count": null,
      "outputs": []
    }
  ]
}